{
 "cells": [
  {
   "cell_type": "markdown",
   "id": "54f8260a-4d31-424a-bcbc-1c305fd18650",
   "metadata": {},
   "source": [
    "### Pt. 3 \n",
    "##### Neural Network pipeline for Big G's automotive\n",
    " * This notebook is specifically for a logistic regression."
   ]
  },
  {
   "cell_type": "code",
   "execution_count": 12,
   "id": "ff76cf6a-5c23-4f03-b90c-e09ecde1a080",
   "metadata": {},
   "outputs": [],
   "source": [
    "import pandas as pd\n",
    "import numpy as np\n",
    "from sklearn.linear_model import LogisticRegression\n",
    "from sklearn.preprocessing import LabelEncoder, StandardScaler\n",
    "from sklearn.model_selection import train_test_split\n",
    "from sklearn.metrics import classification_report, confusion_matrix\n",
    "from sklearn.calibration import CalibrationDisplay\n",
    "from imblearn.over_sampling import RandomOverSampler\n",
    "from sklearn.model_selection import train_test_split\n",
    "from sklearn.metrics import (\n",
    "    classification_report, accuracy_score, confusion_matrix, \n",
    "    f1_score, fbeta_score, \n",
    "    matthews_corrcoef, brier_score_loss\n",
    ")\n",
    "from sklearn.calibration import CalibrationDisplay\n",
    "\n",
    "from imblearn.over_sampling import RandomOverSampler"
   ]
  },
  {
   "cell_type": "code",
   "execution_count": 2,
   "id": "166e2a31-2e68-40ee-a572-468d69cbb4a8",
   "metadata": {},
   "outputs": [],
   "source": [
    "#read df in\n",
    "#For some reason columns (7,12,15,16,18,19,20,21,22,23,25,27,28) have mixed types. Same warning as in pt. 2. to see warning, delete low_memory=False\n",
    "big_g_df=pd.read_csv('../data/big_g_pipeline_ready.csv', low_memory=False)"
   ]
  },
  {
   "cell_type": "code",
   "execution_count": 3,
   "id": "adec418c-2b0c-43fc-bf32-bc4bed207e08",
   "metadata": {},
   "outputs": [],
   "source": [
    "big_g_df=big_g_df.drop(columns=['Unnamed: 0',\n",
    "                      ])"
   ]
  },
  {
   "cell_type": "code",
   "execution_count": 4,
   "id": "a578d294-99be-4791-a1df-ddd983ef4bac",
   "metadata": {},
   "outputs": [],
   "source": [
    "pd.set_option('display.max_columns', None)"
   ]
  },
  {
   "cell_type": "code",
   "execution_count": 5,
   "id": "1e1e102b-1ea9-449f-b558-225693226a18",
   "metadata": {},
   "outputs": [
    {
     "name": "stdout",
     "output_type": "stream",
     "text": [
      "<class 'pandas.core.frame.DataFrame'>\n",
      "RangeIndex: 507342 entries, 0 to 507341\n",
      "Data columns (total 245 columns):\n",
      " #    Column                     Dtype  \n",
      "---   ------                     -----  \n",
      " 0    EventTimeStamp             object \n",
      " 1    RecordID                   int64  \n",
      " 2    spn                        int64  \n",
      " 3    fmi                        int64  \n",
      " 4    active                     bool   \n",
      " 5    activeTransitionCount      int64  \n",
      " 6    EquipmentID                int64  \n",
      " 7    Latitude                   float64\n",
      " 8    Longitude                  float64\n",
      " 9    LocationTimeStamp          object \n",
      " 10   time_of_day                object \n",
      " 11   rolling_count_5246         float64\n",
      " 12   rolling_count_1569         float64\n",
      " 13   BarometricPressure         object \n",
      " 14   CruiseControlActive        bool   \n",
      " 15   CruiseControlSetSpeed      float64\n",
      " 16   DistanceLtd                object \n",
      " 17   EngineCoolantTemperature   object \n",
      " 18   EngineLoad                 int64  \n",
      " 19   EngineOilPressure          object \n",
      " 20   EngineOilTemperature       object \n",
      " 21   EngineRpm                  object \n",
      " 22   EngineTimeLtd              object \n",
      " 23   FuelLtd                    object \n",
      " 24   FuelRate                   object \n",
      " 25   IgnStatus                  bool   \n",
      " 26   IntakeManifoldTemperature  object \n",
      " 27   LampStatus                 int64  \n",
      " 28   Speed                      object \n",
      " 29   TurboBoostPressure         object \n",
      " 30   geometry                   object \n",
      " 31   distance                   float64\n",
      " 32   spn_combined               object \n",
      " 33   1761_1                     bool   \n",
      " 34   1761_10                    bool   \n",
      " 35   1761_11                    bool   \n",
      " 36   1761_17                    bool   \n",
      " 37   1761_18                    bool   \n",
      " 38   1761_19                    bool   \n",
      " 39   1761_3                     bool   \n",
      " 40   1761_4                     bool   \n",
      " 41   1761_9                     bool   \n",
      " 42   3031_18                    bool   \n",
      " 43   3031_2                     bool   \n",
      " 44   3031_3                     bool   \n",
      " 45   3031_4                     bool   \n",
      " 46   3031_9                     bool   \n",
      " 47   3216_10                    bool   \n",
      " 48   3216_11                    bool   \n",
      " 49   3216_16                    bool   \n",
      " 50   3216_2                     bool   \n",
      " 51   3216_20                    bool   \n",
      " 52   3216_21                    bool   \n",
      " 53   3216_3                     bool   \n",
      " 54   3216_4                     bool   \n",
      " 55   3216_9                     bool   \n",
      " 56   3217_2                     bool   \n",
      " 57   3218_2                     bool   \n",
      " 58   3222_5                     bool   \n",
      " 59   3226_10                    bool   \n",
      " 60   3226_11                    bool   \n",
      " 61   3226_16                    bool   \n",
      " 62   3226_2                     bool   \n",
      " 63   3226_20                    bool   \n",
      " 64   3226_21                    bool   \n",
      " 65   3226_4                     bool   \n",
      " 66   3226_9                     bool   \n",
      " 67   3227_10                    bool   \n",
      " 68   3227_21                    bool   \n",
      " 69   3228_2                     bool   \n",
      " 70   3242_0                     bool   \n",
      " 71   3242_15                    bool   \n",
      " 72   3242_16                    bool   \n",
      " 73   3242_3                     bool   \n",
      " 74   3242_4                     bool   \n",
      " 75   3246_0                     bool   \n",
      " 76   3246_15                    bool   \n",
      " 77   3246_16                    bool   \n",
      " 78   3246_2                     bool   \n",
      " 79   3246_3                     bool   \n",
      " 80   3246_4                     bool   \n",
      " 81   3251_0                     bool   \n",
      " 82   3251_10                    bool   \n",
      " 83   3251_15                    bool   \n",
      " 84   3251_16                    bool   \n",
      " 85   3251_2                     bool   \n",
      " 86   3251_3                     bool   \n",
      " 87   3251_4                     bool   \n",
      " 88   3360_11                    bool   \n",
      " 89   3360_12                    bool   \n",
      " 90   3360_19                    bool   \n",
      " 91   3360_2                     bool   \n",
      " 92   3360_9                     bool   \n",
      " 93   3361_12                    bool   \n",
      " 94   3361_2                     bool   \n",
      " 95   3361_3                     bool   \n",
      " 96   3361_4                     bool   \n",
      " 97   3361_5                     bool   \n",
      " 98   3362_31                    bool   \n",
      " 99   3362_7                     bool   \n",
      " 100  3363_16                    bool   \n",
      " 101  3363_3                     bool   \n",
      " 102  3363_4                     bool   \n",
      " 103  3363_5                     bool   \n",
      " 104  3363_7                     bool   \n",
      " 105  3364_10                    bool   \n",
      " 106  3364_11                    bool   \n",
      " 107  3364_18                    bool   \n",
      " 108  3364_3                     bool   \n",
      " 109  3364_9                     bool   \n",
      " 110  3480_17                    bool   \n",
      " 111  3480_2                     bool   \n",
      " 112  3480_3                     bool   \n",
      " 113  3480_4                     bool   \n",
      " 114  3482_2                     bool   \n",
      " 115  3482_3                     bool   \n",
      " 116  3482_7                     bool   \n",
      " 117  3490_3                     bool   \n",
      " 118  3490_4                     bool   \n",
      " 119  3490_7                     bool   \n",
      " 120  3515_10                    bool   \n",
      " 121  3521_18                    bool   \n",
      " 122  3556_18                    bool   \n",
      " 123  3556_2                     bool   \n",
      " 124  3556_5                     bool   \n",
      " 125  3610_2                     bool   \n",
      " 126  3610_3                     bool   \n",
      " 127  3610_4                     bool   \n",
      " 128  3703_31                    bool   \n",
      " 129  3720_15                    bool   \n",
      " 130  3936_14                    bool   \n",
      " 131  3936_15                    bool   \n",
      " 132  3936_16                    bool   \n",
      " 133  3936_7                     bool   \n",
      " 134  4094_18                    bool   \n",
      " 135  4094_31                    bool   \n",
      " 136  4096_31                    bool   \n",
      " 137  4331_16                    bool   \n",
      " 138  4331_18                    bool   \n",
      " 139  4334_16                    bool   \n",
      " 140  4334_18                    bool   \n",
      " 141  4334_2                     bool   \n",
      " 142  4334_3                     bool   \n",
      " 143  4334_4                     bool   \n",
      " 144  4339_7                     bool   \n",
      " 145  4340_3                     bool   \n",
      " 146  4340_4                     bool   \n",
      " 147  4340_5                     bool   \n",
      " 148  4342_3                     bool   \n",
      " 149  4342_4                     bool   \n",
      " 150  4342_5                     bool   \n",
      " 151  4344_3                     bool   \n",
      " 152  4344_4                     bool   \n",
      " 153  4344_5                     bool   \n",
      " 154  4346_5                     bool   \n",
      " 155  4360_0                     bool   \n",
      " 156  4360_10                    bool   \n",
      " 157  4360_16                    bool   \n",
      " 158  4360_3                     bool   \n",
      " 159  4360_4                     bool   \n",
      " 160  4363_0                     bool   \n",
      " 161  4363_10                    bool   \n",
      " 162  4363_16                    bool   \n",
      " 163  4363_2                     bool   \n",
      " 164  4363_3                     bool   \n",
      " 165  4363_4                     bool   \n",
      " 166  4364_18                    bool   \n",
      " 167  4364_31                    bool   \n",
      " 168  4375_2                     bool   \n",
      " 169  4375_4                     bool   \n",
      " 170  4376_3                     bool   \n",
      " 171  4376_4                     bool   \n",
      " 172  4376_5                     bool   \n",
      " 173  4376_7                     bool   \n",
      " 174  4765_16                    bool   \n",
      " 175  4765_2                     bool   \n",
      " 176  4765_3                     bool   \n",
      " 177  4765_4                     bool   \n",
      " 178  4766_15                    bool   \n",
      " 179  4766_3                     bool   \n",
      " 180  4792_14                    bool   \n",
      " 181  4794_31                    bool   \n",
      " 182  4795_31                    bool   \n",
      " 183  4796_31                    bool   \n",
      " 184  5024_10                    bool   \n",
      " 185  5031_10                    bool   \n",
      " 186  520953_4                   bool   \n",
      " 187  521032_14                  bool   \n",
      " 188  5246_0                     bool   \n",
      " 189  5246_16                    bool   \n",
      " 190  5298_17                    bool   \n",
      " 191  5298_18                    bool   \n",
      " 192  5319_31                    bool   \n",
      " 193  5392_31                    bool   \n",
      " 194  5394_3                     bool   \n",
      " 195  5394_4                     bool   \n",
      " 196  5394_5                     bool   \n",
      " 197  5394_7                     bool   \n",
      " 198  5397_31                    bool   \n",
      " 199  5491_3                     bool   \n",
      " 200  5491_4                     bool   \n",
      " 201  5491_5                     bool   \n",
      " 202  5491_7                     bool   \n",
      " 203  5569_2                     bool   \n",
      " 204  5742_11                    bool   \n",
      " 205  5742_12                    bool   \n",
      " 206  5742_16                    bool   \n",
      " 207  5742_3                     bool   \n",
      " 208  5742_4                     bool   \n",
      " 209  5742_9                     bool   \n",
      " 210  5743_11                    bool   \n",
      " 211  5743_12                    bool   \n",
      " 212  5743_3                     bool   \n",
      " 213  5743_4                     bool   \n",
      " 214  5743_9                     bool   \n",
      " 215  5745_18                    bool   \n",
      " 216  5745_3                     bool   \n",
      " 217  5745_4                     bool   \n",
      " 218  5746_4                     bool   \n",
      " 219  5835_21                    bool   \n",
      " 220  5835_3                     bool   \n",
      " 221  5835_4                     bool   \n",
      " 222  5835_9                     bool   \n",
      " 223  5848_12                    bool   \n",
      " 224  5848_13                    bool   \n",
      " 225  5848_19                    bool   \n",
      " 226  5848_4                     bool   \n",
      " 227  5848_9                     bool   \n",
      " 228  5851_18                    bool   \n",
      " 229  5851_2                     bool   \n",
      " 230  5853_10                    bool   \n",
      " 231  5862_0                     bool   \n",
      " 232  5862_16                    bool   \n",
      " 233  5862_2                     bool   \n",
      " 234  5862_3                     bool   \n",
      " 235  5862_4                     bool   \n",
      " 236  6773_16                    bool   \n",
      " 237  6780_3                     bool   \n",
      " 238  6802_31                    bool   \n",
      " 239  7321_4                     bool   \n",
      " 240  7323_4                     bool   \n",
      " 241  7854_2                     bool   \n",
      " 242  7854_3                     bool   \n",
      " 243  7854_4                     bool   \n",
      " 244  1569_31                    bool   \n",
      "dtypes: bool(215), float64(6), int64(7), object(17)\n",
      "memory usage: 220.1+ MB\n"
     ]
    }
   ],
   "source": [
    "big_g_df.info(verbose=True)"
   ]
  },
  {
   "cell_type": "code",
   "execution_count": 6,
   "id": "70034742-2c66-414a-a048-87c22c7816b0",
   "metadata": {},
   "outputs": [
    {
     "name": "stdout",
     "output_type": "stream",
     "text": [
      "['EventTimeStamp', 'RecordID', 'spn', 'fmi', 'active', 'activeTransitionCount', 'EquipmentID', 'Latitude', 'Longitude', 'LocationTimeStamp', 'time_of_day', 'rolling_count_5246', 'rolling_count_1569', 'BarometricPressure', 'CruiseControlActive', 'CruiseControlSetSpeed', 'DistanceLtd', 'EngineCoolantTemperature', 'EngineLoad', 'EngineOilPressure', 'EngineOilTemperature', 'EngineRpm', 'EngineTimeLtd', 'FuelLtd', 'FuelRate', 'IgnStatus', 'IntakeManifoldTemperature', 'LampStatus', 'Speed', 'TurboBoostPressure', 'geometry', 'distance', 'spn_combined', '1761_1', '1761_10', '1761_11', '1761_17', '1761_18', '1761_19', '1761_3', '1761_4', '1761_9', '3031_18', '3031_2', '3031_3', '3031_4', '3031_9', '3216_10', '3216_11', '3216_16', '3216_2', '3216_20', '3216_21', '3216_3', '3216_4', '3216_9', '3217_2', '3218_2', '3222_5', '3226_10', '3226_11', '3226_16', '3226_2', '3226_20', '3226_21', '3226_4', '3226_9', '3227_10', '3227_21', '3228_2', '3242_0', '3242_15', '3242_16', '3242_3', '3242_4', '3246_0', '3246_15', '3246_16', '3246_2', '3246_3', '3246_4', '3251_0', '3251_10', '3251_15', '3251_16', '3251_2', '3251_3', '3251_4', '3360_11', '3360_12', '3360_19', '3360_2', '3360_9', '3361_12', '3361_2', '3361_3', '3361_4', '3361_5', '3362_31', '3362_7', '3363_16', '3363_3', '3363_4', '3363_5', '3363_7', '3364_10', '3364_11', '3364_18', '3364_3', '3364_9', '3480_17', '3480_2', '3480_3', '3480_4', '3482_2', '3482_3', '3482_7', '3490_3', '3490_4', '3490_7', '3515_10', '3521_18', '3556_18', '3556_2', '3556_5', '3610_2', '3610_3', '3610_4', '3703_31', '3720_15', '3936_14', '3936_15', '3936_16', '3936_7', '4094_18', '4094_31', '4096_31', '4331_16', '4331_18', '4334_16', '4334_18', '4334_2', '4334_3', '4334_4', '4339_7', '4340_3', '4340_4', '4340_5', '4342_3', '4342_4', '4342_5', '4344_3', '4344_4', '4344_5', '4346_5', '4360_0', '4360_10', '4360_16', '4360_3', '4360_4', '4363_0', '4363_10', '4363_16', '4363_2', '4363_3', '4363_4', '4364_18', '4364_31', '4375_2', '4375_4', '4376_3', '4376_4', '4376_5', '4376_7', '4765_16', '4765_2', '4765_3', '4765_4', '4766_15', '4766_3', '4792_14', '4794_31', '4795_31', '4796_31', '5024_10', '5031_10', '520953_4', '521032_14', '5246_0', '5246_16', '5298_17', '5298_18', '5319_31', '5392_31', '5394_3', '5394_4', '5394_5', '5394_7', '5397_31', '5491_3', '5491_4', '5491_5', '5491_7', '5569_2', '5742_11', '5742_12', '5742_16', '5742_3', '5742_4', '5742_9', '5743_11', '5743_12', '5743_3', '5743_4', '5743_9', '5745_18', '5745_3', '5745_4', '5746_4', '5835_21', '5835_3', '5835_4', '5835_9', '5848_12', '5848_13', '5848_19', '5848_4', '5848_9', '5851_18', '5851_2', '5853_10', '5862_0', '5862_16', '5862_2', '5862_3', '5862_4', '6773_16', '6780_3', '6802_31', '7321_4', '7323_4', '7854_2', '7854_3', '7854_4', '1569_31']\n"
     ]
    }
   ],
   "source": [
    "print(list(big_g_df.columns))"
   ]
  },
  {
   "cell_type": "code",
   "execution_count": 24,
   "id": "af727230-bf6a-4824-bf62-99563f69efdc",
   "metadata": {},
   "outputs": [
    {
     "data": {
      "text/plain": [
       "211"
      ]
     },
     "execution_count": 24,
     "metadata": {},
     "output_type": "execute_result"
    }
   ],
   "source": [
    "features = [ 'rolling_count_5246', '1761_1', '1761_10', '1761_11', '1761_17', '1761_18', '1761_19', '1761_3', '1761_4', '1761_9', '3031_18', '3031_2', '3031_3', \n",
    "            '3031_4', '3031_9', '3216_10', '3216_11', '3216_16', '3216_2', '3216_20', '3216_21', '3216_3', '3216_4', '3216_9', '3217_2', \n",
    "            '3218_2', '3222_5', '3226_10', '3226_11', '3226_16', '3226_2', '3226_20', '3226_21', '3226_4', '3226_9', '3227_10', '3227_21', \n",
    "            '3228_2', '3242_0', '3242_15', '3242_16', '3242_3', '3242_4', '3246_0', '3246_15', '3246_16', '3246_2', '3246_3', '3246_4', \n",
    "            '3251_0', '3251_10', '3251_15', '3251_16', '3251_2', '3251_3', '3251_4', '3360_11', '3360_12', '3360_19', '3360_2', '3360_9', \n",
    "            '3361_12', '3361_2', '3361_3', '3361_4', '3361_5', '3362_31', '3362_7', '3363_16', '3363_3', '3363_4', '3363_5', '3363_7', \n",
    "            '3364_10', '3364_11', '3364_18', '3364_3', '3364_9', '3480_17', '3480_2', '3480_3', '3480_4', '3482_2', '3482_3', '3482_7', \n",
    "            '3490_3', '3490_4', '3490_7', '3515_10', '3521_18', '3556_18', '3556_2', '3556_5', '3610_2', '3610_3', '3610_4', '3703_31', \n",
    "            '3720_15', '3936_14', '3936_15', '3936_16', '3936_7', '4094_18', '4094_31', '4096_31', '4331_16', '4331_18', '4334_16', \n",
    "            '4334_18', '4334_2', '4334_3', '4334_4', '4339_7', '4340_3', '4340_4', '4340_5', '4342_3', '4342_4', '4342_5', '4344_3', '4344_4',\n",
    "            '4344_5', '4346_5', '4360_0', '4360_10', '4360_16', '4360_3', '4360_4', '4363_0', '4363_10', '4363_16', '4363_2', '4363_3', '4363_4',\n",
    "            '4364_18', '4364_31', '4375_2', '4375_4', '4376_3', '4376_4', '4376_5', '4376_7', '4765_16', '4765_2', '4765_3', '4765_4', '4766_15',\n",
    "            '4766_3', '4792_14', '4794_31', '4795_31', '4796_31', '5024_10', '5031_10', '520953_4', '521032_14', '5246_16', '5298_17',\n",
    "            '5298_18', '5319_31', '5392_31', '5394_3', '5394_4', '5394_5', '5394_7', '5397_31', '5491_3', '5491_4', '5491_5', '5491_7', '5569_2',\n",
    "            '5742_11', '5742_12', '5742_16', '5742_3', '5742_4', '5742_9', '5743_11', '5743_12', '5743_3', '5743_4', '5743_9', '5745_18', '5745_3',\n",
    "            '5745_4', '5746_4', '5835_21', '5835_3', '5835_4', '5835_9', '5848_12', '5848_13', '5848_19', '5848_4', '5848_9', '5851_18', '5851_2',\n",
    "            '5853_10', '5862_0', '5862_16', '5862_2', '5862_3', '5862_4', '6773_16', '6780_3', '6802_31', '7321_4', '7323_4', '7854_2', '7854_3',\n",
    "            '7854_4']\n",
    "\n",
    "X = big_g_df[features]\n",
    "y = big_g_df['5246_0']\n",
    "\n",
    "# Encode the target variable\n",
    "le = LabelEncoder().fit(y)\n",
    "y = le.transform(y)\n",
    "\n",
    "# Perform a train/test split first, a la MH's with a y_val incorporated...\n",
    "X_train, X_test, y_train, y_test = train_test_split(X, y, stratify = y, random_state = 321, train_size = 0.8)\n",
    "X_train, X_val, y_train, y_val = train_test_split(X_train, y_train, stratify = y_train, random_state = 321, train_size = 0.6/0.8)\n",
    "\n",
    "# Scale predictors\n",
    "scaler = StandardScaler().fit(X_train)\n",
    "X_train = scaler.transform(X_train)\n",
    "X_test = scaler.transform(X_test)\n",
    "\n",
    "len(features)"
   ]
  },
  {
   "cell_type": "code",
   "execution_count": 25,
   "id": "3bc9973c-e248-4fc0-97b7-b116646a8c33",
   "metadata": {},
   "outputs": [],
   "source": [
    "lr = LogisticRegression()"
   ]
  },
  {
   "cell_type": "code",
   "execution_count": 26,
   "id": "197145cb-3f56-4991-9dc6-c76418d723c8",
   "metadata": {},
   "outputs": [],
   "source": [
    "logreg = lr.fit(X_train, y_train)"
   ]
  },
  {
   "cell_type": "code",
   "execution_count": 27,
   "id": "2090494e-8409-4521-b033-95b39391bb88",
   "metadata": {},
   "outputs": [
    {
     "name": "stdout",
     "output_type": "stream",
     "text": [
      "Accuracy: 0.9995269491174644\n",
      "MCC: 0.0\n",
      "[[101421      0]\n",
      " [    48      0]]\n",
      "              precision    recall  f1-score   support\n",
      "\n",
      "           0       1.00      1.00      1.00    101421\n",
      "           1       0.00      0.00      0.00        48\n",
      "\n",
      "    accuracy                           1.00    101469\n",
      "   macro avg       0.50      0.50      0.50    101469\n",
      "weighted avg       1.00      1.00      1.00    101469\n",
      "\n"
     ]
    },
    {
     "name": "stderr",
     "output_type": "stream",
     "text": [
      "C:\\Users\\micha\\anaconda3\\Lib\\site-packages\\sklearn\\metrics\\_classification.py:1344: UndefinedMetricWarning: Precision and F-score are ill-defined and being set to 0.0 in labels with no predicted samples. Use `zero_division` parameter to control this behavior.\n",
      "  _warn_prf(average, modifier, msg_start, len(result))\n",
      "C:\\Users\\micha\\anaconda3\\Lib\\site-packages\\sklearn\\metrics\\_classification.py:1344: UndefinedMetricWarning: Precision and F-score are ill-defined and being set to 0.0 in labels with no predicted samples. Use `zero_division` parameter to control this behavior.\n",
      "  _warn_prf(average, modifier, msg_start, len(result))\n",
      "C:\\Users\\micha\\anaconda3\\Lib\\site-packages\\sklearn\\metrics\\_classification.py:1344: UndefinedMetricWarning: Precision and F-score are ill-defined and being set to 0.0 in labels with no predicted samples. Use `zero_division` parameter to control this behavior.\n",
      "  _warn_prf(average, modifier, msg_start, len(result))\n"
     ]
    }
   ],
   "source": [
    "y_pred = lr.predict(X_test)\n",
    "print(f'Accuracy: {accuracy_score(y_test, y_pred)}')\n",
    "print(f'MCC: {matthews_corrcoef(y_test, y_pred)}')\n",
    "print(confusion_matrix(y_test, y_pred))\n",
    "print(classification_report(y_test, y_pred))"
   ]
  },
  {
   "cell_type": "code",
   "execution_count": 21,
   "id": "20559118-9709-4346-bbb1-e331805315d4",
   "metadata": {},
   "outputs": [
    {
     "name": "stderr",
     "output_type": "stream",
     "text": [
      "C:\\Users\\micha\\anaconda3\\Lib\\site-packages\\sklearn\\base.py:432: UserWarning: X has feature names, but LogisticRegression was fitted without feature names\n",
      "  warnings.warn(\n"
     ]
    }
   ],
   "source": [
    "y_val_pred_proba = lr.predict_proba(X_val)[:,1]"
   ]
  },
  {
   "cell_type": "code",
   "execution_count": 35,
   "id": "699cb8b4-8005-4449-9c3d-a8346e4e2f25",
   "metadata": {},
   "outputs": [
    {
     "data": {
      "text/html": [
       "<div>\n",
       "<style scoped>\n",
       "    .dataframe tbody tr th:only-of-type {\n",
       "        vertical-align: middle;\n",
       "    }\n",
       "\n",
       "    .dataframe tbody tr th {\n",
       "        vertical-align: top;\n",
       "    }\n",
       "\n",
       "    .dataframe thead th {\n",
       "        text-align: right;\n",
       "    }\n",
       "</style>\n",
       "<table border=\"1\" class=\"dataframe\">\n",
       "  <thead>\n",
       "    <tr style=\"text-align: right;\">\n",
       "      <th></th>\n",
       "      <th>threshold</th>\n",
       "      <th>f1</th>\n",
       "    </tr>\n",
       "  </thead>\n",
       "  <tbody>\n",
       "    <tr>\n",
       "      <th>0</th>\n",
       "      <td>0.10</td>\n",
       "      <td>0.0</td>\n",
       "    </tr>\n",
       "    <tr>\n",
       "      <th>6663</th>\n",
       "      <td>66.73</td>\n",
       "      <td>0.0</td>\n",
       "    </tr>\n",
       "    <tr>\n",
       "      <th>6656</th>\n",
       "      <td>66.66</td>\n",
       "      <td>0.0</td>\n",
       "    </tr>\n",
       "    <tr>\n",
       "      <th>6657</th>\n",
       "      <td>66.67</td>\n",
       "      <td>0.0</td>\n",
       "    </tr>\n",
       "    <tr>\n",
       "      <th>6658</th>\n",
       "      <td>66.68</td>\n",
       "      <td>0.0</td>\n",
       "    </tr>\n",
       "  </tbody>\n",
       "</table>\n",
       "</div>"
      ],
      "text/plain": [
       "      threshold   f1\n",
       "0          0.10  0.0\n",
       "6663      66.73  0.0\n",
       "6656      66.66  0.0\n",
       "6657      66.67  0.0\n",
       "6658      66.68  0.0"
      ]
     },
     "execution_count": 35,
     "metadata": {},
     "output_type": "execute_result"
    }
   ],
   "source": [
    "candidate_thresholds = np.arange(start = .1, stop = 100, step = 0.01)\n",
    "thresholds = pd.DataFrame({'threshold': candidate_thresholds})\n",
    "thresholds['f1'] = thresholds['threshold'].apply(lambda x: f1_score(y_val, y_val_pred_proba > x))\n",
    "thresholds.sort_values('f1', ascending = False).head()"
   ]
  },
  {
   "cell_type": "markdown",
   "id": "3ebdcfa5-9cc0-4125-8277-3e6af6d81536",
   "metadata": {},
   "source": [
    "Changing thresholds doesn't seem very promising..."
   ]
  },
  {
   "cell_type": "code",
   "execution_count": 28,
   "id": "439624cf-afa5-4731-bb57-daced3a7d9fd",
   "metadata": {},
   "outputs": [
    {
     "data": {
      "text/html": [
       "<style>#sk-container-id-1 {color: black;background-color: white;}#sk-container-id-1 pre{padding: 0;}#sk-container-id-1 div.sk-toggleable {background-color: white;}#sk-container-id-1 label.sk-toggleable__label {cursor: pointer;display: block;width: 100%;margin-bottom: 0;padding: 0.3em;box-sizing: border-box;text-align: center;}#sk-container-id-1 label.sk-toggleable__label-arrow:before {content: \"▸\";float: left;margin-right: 0.25em;color: #696969;}#sk-container-id-1 label.sk-toggleable__label-arrow:hover:before {color: black;}#sk-container-id-1 div.sk-estimator:hover label.sk-toggleable__label-arrow:before {color: black;}#sk-container-id-1 div.sk-toggleable__content {max-height: 0;max-width: 0;overflow: hidden;text-align: left;background-color: #f0f8ff;}#sk-container-id-1 div.sk-toggleable__content pre {margin: 0.2em;color: black;border-radius: 0.25em;background-color: #f0f8ff;}#sk-container-id-1 input.sk-toggleable__control:checked~div.sk-toggleable__content {max-height: 200px;max-width: 100%;overflow: auto;}#sk-container-id-1 input.sk-toggleable__control:checked~label.sk-toggleable__label-arrow:before {content: \"▾\";}#sk-container-id-1 div.sk-estimator input.sk-toggleable__control:checked~label.sk-toggleable__label {background-color: #d4ebff;}#sk-container-id-1 div.sk-label input.sk-toggleable__control:checked~label.sk-toggleable__label {background-color: #d4ebff;}#sk-container-id-1 input.sk-hidden--visually {border: 0;clip: rect(1px 1px 1px 1px);clip: rect(1px, 1px, 1px, 1px);height: 1px;margin: -1px;overflow: hidden;padding: 0;position: absolute;width: 1px;}#sk-container-id-1 div.sk-estimator {font-family: monospace;background-color: #f0f8ff;border: 1px dotted black;border-radius: 0.25em;box-sizing: border-box;margin-bottom: 0.5em;}#sk-container-id-1 div.sk-estimator:hover {background-color: #d4ebff;}#sk-container-id-1 div.sk-parallel-item::after {content: \"\";width: 100%;border-bottom: 1px solid gray;flex-grow: 1;}#sk-container-id-1 div.sk-label:hover label.sk-toggleable__label {background-color: #d4ebff;}#sk-container-id-1 div.sk-serial::before {content: \"\";position: absolute;border-left: 1px solid gray;box-sizing: border-box;top: 0;bottom: 0;left: 50%;z-index: 0;}#sk-container-id-1 div.sk-serial {display: flex;flex-direction: column;align-items: center;background-color: white;padding-right: 0.2em;padding-left: 0.2em;position: relative;}#sk-container-id-1 div.sk-item {position: relative;z-index: 1;}#sk-container-id-1 div.sk-parallel {display: flex;align-items: stretch;justify-content: center;background-color: white;position: relative;}#sk-container-id-1 div.sk-item::before, #sk-container-id-1 div.sk-parallel-item::before {content: \"\";position: absolute;border-left: 1px solid gray;box-sizing: border-box;top: 0;bottom: 0;left: 50%;z-index: -1;}#sk-container-id-1 div.sk-parallel-item {display: flex;flex-direction: column;z-index: 1;position: relative;background-color: white;}#sk-container-id-1 div.sk-parallel-item:first-child::after {align-self: flex-end;width: 50%;}#sk-container-id-1 div.sk-parallel-item:last-child::after {align-self: flex-start;width: 50%;}#sk-container-id-1 div.sk-parallel-item:only-child::after {width: 0;}#sk-container-id-1 div.sk-dashed-wrapped {border: 1px dashed gray;margin: 0 0.4em 0.5em 0.4em;box-sizing: border-box;padding-bottom: 0.4em;background-color: white;}#sk-container-id-1 div.sk-label label {font-family: monospace;font-weight: bold;display: inline-block;line-height: 1.2em;}#sk-container-id-1 div.sk-label-container {text-align: center;}#sk-container-id-1 div.sk-container {/* jupyter's `normalize.less` sets `[hidden] { display: none; }` but bootstrap.min.css set `[hidden] { display: none !important; }` so we also need the `!important` here to be able to override the default hidden behavior on the sphinx rendered scikit-learn.org. See: https://github.com/scikit-learn/scikit-learn/issues/21755 */display: inline-block !important;position: relative;}#sk-container-id-1 div.sk-text-repr-fallback {display: none;}</style><div id=\"sk-container-id-1\" class=\"sk-top-container\"><div class=\"sk-text-repr-fallback\"><pre>LogisticRegression(class_weight=&#x27;balanced&#x27;)</pre><b>In a Jupyter environment, please rerun this cell to show the HTML representation or trust the notebook. <br />On GitHub, the HTML representation is unable to render, please try loading this page with nbviewer.org.</b></div><div class=\"sk-container\" hidden><div class=\"sk-item\"><div class=\"sk-estimator sk-toggleable\"><input class=\"sk-toggleable__control sk-hidden--visually\" id=\"sk-estimator-id-1\" type=\"checkbox\" checked><label for=\"sk-estimator-id-1\" class=\"sk-toggleable__label sk-toggleable__label-arrow\">LogisticRegression</label><div class=\"sk-toggleable__content\"><pre>LogisticRegression(class_weight=&#x27;balanced&#x27;)</pre></div></div></div></div></div>"
      ],
      "text/plain": [
       "LogisticRegression(class_weight='balanced')"
      ]
     },
     "execution_count": 28,
     "metadata": {},
     "output_type": "execute_result"
    }
   ],
   "source": [
    "lr_balanced = LogisticRegression(class_weight='balanced')\n",
    "lr_balanced.fit(X_train, y_train)"
   ]
  },
  {
   "cell_type": "code",
   "execution_count": 29,
   "id": "34c251a9-3923-4788-a0b6-f31534a879ab",
   "metadata": {},
   "outputs": [
    {
     "name": "stdout",
     "output_type": "stream",
     "text": [
      "Accuracy: 0.0408302042988499\n",
      "MCC: 0.004461307128194118\n",
      "[[ 4095 97326]\n",
      " [    0    48]]\n",
      "              precision    recall  f1-score   support\n",
      "\n",
      "           0       1.00      0.04      0.08    101421\n",
      "           1       0.00      1.00      0.00        48\n",
      "\n",
      "    accuracy                           0.04    101469\n",
      "   macro avg       0.50      0.52      0.04    101469\n",
      "weighted avg       1.00      0.04      0.08    101469\n",
      "\n"
     ]
    }
   ],
   "source": [
    "y_pred = lr_balanced.predict(X_test)\n",
    "print(f'Accuracy: {accuracy_score(y_test, y_pred)}')\n",
    "print(f'MCC: {matthews_corrcoef(y_test, y_pred)}')\n",
    "print(confusion_matrix(y_test, y_pred))\n",
    "print(classification_report(y_test, y_pred))"
   ]
  },
  {
   "cell_type": "code",
   "execution_count": 30,
   "id": "d1c65167-00b7-4f28-9afc-4bd538d21425",
   "metadata": {},
   "outputs": [
    {
     "data": {
      "image/png": "[encoded data removed]",
      "text/plain": [
       "<Figure size 640x480 with 1 Axes>"
      ]
     },
     "metadata": {},
     "output_type": "display_data"
    }
   ],
   "source": [
    "CalibrationDisplay.from_estimator(lr, X_test, y_test);"
   ]
  },
  {
   "cell_type": "code",
   "execution_count": 31,
   "id": "5cbca943-346c-46c1-a1d6-539319901dee",
   "metadata": {},
   "outputs": [
    {
     "data": {
      "image/png": "[encoded data removed]",
      "text/plain": [
       "<Figure size 640x480 with 1 Axes>"
      ]
     },
     "metadata": {},
     "output_type": "display_data"
    }
   ],
   "source": [
    "CalibrationDisplay.from_estimator(lr_balanced, X_test, y_test);"
   ]
  },
  {
   "cell_type": "code",
   "execution_count": 32,
   "id": "05935146-d408-4a62-8005-5d1c91785c15",
   "metadata": {},
   "outputs": [],
   "source": [
    "oversampler = RandomOverSampler(random_state = 321)\n",
    "X_resampled, y_resampled = oversampler.fit_resample(X_train, y_train)"
   ]
  },
  {
   "cell_type": "code",
   "execution_count": 33,
   "id": "5bea9226-07f3-4daa-b205-9b4514d36d63",
   "metadata": {},
   "outputs": [
    {
     "ename": "AttributeError",
     "evalue": "'numpy.ndarray' object has no attribute 'value_counts'",
     "output_type": "error",
     "traceback": [
      "\u001b[1;31m---------------------------------------------------------------------------\u001b[0m",
      "\u001b[1;31mAttributeError\u001b[0m                            Traceback (most recent call last)",
      "Cell \u001b[1;32mIn[33], line 1\u001b[0m\n\u001b[1;32m----> 1\u001b[0m y_resampled\u001b[38;5;241m.\u001b[39mvalue_counts()\n",
      "\u001b[1;31mAttributeError\u001b[0m: 'numpy.ndarray' object has no attribute 'value_counts'"
     ]
    }
   ],
   "source": [
    "y_resampled.value_counts()"
   ]
  },
  {
   "cell_type": "code",
   "execution_count": 34,
   "id": "28ab4ff7-3d15-4984-aa4e-2ccf53117447",
   "metadata": {},
   "outputs": [
    {
     "name": "stdout",
     "output_type": "stream",
     "text": [
      "Accuracy: 0.0408302042988499\n",
      "MCC: 0.004461307128194118\n",
      "[[ 4095 97326]\n",
      " [    0    48]]\n",
      "              precision    recall  f1-score   support\n",
      "\n",
      "           0       1.00      0.04      0.08    101421\n",
      "           1       0.00      1.00      0.00        48\n",
      "\n",
      "    accuracy                           0.04    101469\n",
      "   macro avg       0.50      0.52      0.04    101469\n",
      "weighted avg       1.00      0.04      0.08    101469\n",
      "\n"
     ]
    }
   ],
   "source": [
    "lr_oversample = LogisticRegression().fit(X_resampled, y_resampled)\n",
    "\n",
    "y_pred = lr_oversample.predict(X_test)\n",
    "print(f'Accuracy: {accuracy_score(y_test, y_pred)}')\n",
    "print(f'MCC: {matthews_corrcoef(y_test, y_pred)}')\n",
    "print(confusion_matrix(y_test, y_pred))\n",
    "print(classification_report(y_test, y_pred))"
   ]
  },
  {
   "cell_type": "code",
   "execution_count": null,
   "id": "6466124e-86d0-46ea-87e0-f0d6b30ddacd",
   "metadata": {},
   "outputs": [],
   "source": []
  }
 ],
 "metadata": {
  "kernelspec": {
   "display_name": "Python 3 (ipykernel)",
   "language": "python",
   "name": "python3"
  },
  "language_info": {
   "codemirror_mode": {
    "name": "ipython",
    "version": 3
   },
   "file_extension": ".py",
   "mimetype": "text/x-python",
   "name": "python",
   "nbconvert_exporter": "python",
   "pygments_lexer": "ipython3",
   "version": "3.11.8"
  }
 },
 "nbformat": 4,
 "nbformat_minor": 5
}
