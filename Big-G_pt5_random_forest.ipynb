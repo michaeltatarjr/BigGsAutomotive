{
 "cells": [
  {
   "cell_type": "markdown",
   "id": "3ccd451a-d39d-4d12-b241-b269f552e88b",
   "metadata": {},
   "source": [
    "### Pt. 5 \n",
    "##### Neural Network pipeline for Big G's automotive\n",
    " * This notebook is specifically for a neural network.  Given the df's size (500k, and 243 columns) it's probably best run in google colab..."
   ]
  },
  {
   "cell_type": "code",
   "execution_count": 2,
   "id": "31389bc6-d51d-4b3b-a5ac-e438956e251d",
   "metadata": {},
   "outputs": [],
   "source": [
    "import pandas as pd\n",
    "import numpy as np\n",
    "import matplotlib.pyplot as plt\n",
    "import tensorflow as tf\n",
    "from sklearn.preprocessing import LabelEncoder, StandardScaler\n",
    "from sklearn.model_selection import train_test_split\n",
    "from sklearn.metrics import classification_report, confusion_matrix"
   ]
  },
  {
   "cell_type": "code",
   "execution_count": 3,
   "id": "64e32f47-6cca-495b-86f9-577fddfbf22e",
   "metadata": {},
   "outputs": [],
   "source": [
    "#read df in\n",
    "#For some reason columns (7,12,15,16,18,19,20,21,22,23,25,27,28) have mixed types. Same warning as in pt. 2. to see warning, delete low_memory=False\n",
    "big_g_df=pd.read_csv('../data/big_g_pipeline_ready.csv', low_memory=False)"
   ]
  },
  {
   "cell_type": "code",
   "execution_count": null,
   "id": "76f2a359-2d25-4d47-bbe2-e3b76ab5c55f",
   "metadata": {},
   "outputs": [],
   "source": [
    "big_g_df=big_g_df.drop(columns=['Unnamed: 0',\n",
    "                      ])"
   ]
  },
  {
   "cell_type": "code",
   "execution_count": null,
   "id": "1d09ac44-d48f-4ba6-8ec8-0af738a55064",
   "metadata": {},
   "outputs": [],
   "source": [
    "big_g_df.info(verbose=True)"
   ]
  },
  {
   "cell_type": "code",
   "execution_count": null,
   "id": "9430ea74-9bd5-4dde-b48a-9385a5bb4e8a",
   "metadata": {},
   "outputs": [],
   "source": [
    "features = [ 'rolling_count_1569', '1761_1', '1761_10', '1761_11', '1761_17', '1761_18', '1761_19', '1761_3', '1761_4', '1761_9', '3031_18', '3031_2', '3031_3', \n",
    "            '3031_4', '3031_9', '3216_10', '3216_11', '3216_16', '3216_2', '3216_20', '3216_21', '3216_3', '3216_4', '3216_9', '3217_2', \n",
    "            '3218_2', '3222_5', '3226_10', '3226_11', '3226_16', '3226_2', '3226_20', '3226_21', '3226_4', '3226_9', '3227_10', '3227_21', \n",
    "            '3228_2', '3242_0', '3242_15', '3242_16', '3242_3', '3242_4', '3246_0', '3246_15', '3246_16', '3246_2', '3246_3', '3246_4', \n",
    "            '3251_0', '3251_10', '3251_15', '3251_16', '3251_2', '3251_3', '3251_4', '3360_11', '3360_12', '3360_19', '3360_2', '3360_9', \n",
    "            '3361_12', '3361_2', '3361_3', '3361_4', '3361_5', '3362_31', '3362_7', '3363_16', '3363_3', '3363_4', '3363_5', '3363_7', \n",
    "            '3364_10', '3364_11', '3364_18', '3364_3', '3364_9', '3480_17', '3480_2', '3480_3', '3480_4', '3482_2', '3482_3', '3482_7', \n",
    "            '3490_3', '3490_4', '3490_7', '3515_10', '3521_18', '3556_18', '3556_2', '3556_5', '3610_2', '3610_3', '3610_4', '3703_31', \n",
    "            '3720_15', '3936_14', '3936_15', '3936_16', '3936_7', '4094_18', '4094_31', '4096_31', '4331_16', '4331_18', '4334_16', \n",
    "            '4334_18', '4334_2', '4334_3', '4334_4', '4339_7', '4340_3', '4340_4', '4340_5', '4342_3', '4342_4', '4342_5', '4344_3', '4344_4',\n",
    "            '4344_5', '4346_5', '4360_0', '4360_10', '4360_16', '4360_3', '4360_4', '4363_0', '4363_10', '4363_16', '4363_2', '4363_3', '4363_4',\n",
    "            '4364_18', '4364_31', '4375_2', '4375_4', '4376_3', '4376_4', '4376_5', '4376_7', '4765_16', '4765_2', '4765_3', '4765_4', '4766_15',\n",
    "            '4766_3', '4792_14', '4794_31', '4795_31', '4796_31', '5024_10', '5031_10', '520953_4', '521032_14', '5246_16', '5298_17',\n",
    "            '5298_18', '5319_31', '5392_31', '5394_3', '5394_4', '5394_5', '5394_7', '5397_31', '5491_3', '5491_4', '5491_5', '5491_7', '5569_2',\n",
    "            '5742_11', '5742_12', '5742_16', '5742_3', '5742_4', '5742_9', '5743_11', '5743_12', '5743_3', '5743_4', '5743_9', '5745_18', '5745_3',\n",
    "            '5745_4', '5746_4', '5835_21', '5835_3', '5835_4', '5835_9', '5848_12', '5848_13', '5848_19', '5848_4', '5848_9', '5851_18', '5851_2',\n",
    "            '5853_10', '5862_0', '5862_16', '5862_2', '5862_3', '5862_4', '6773_16', '6780_3', '6802_31', '7321_4', '7323_4', '7854_2', '7854_3',\n",
    "            '7854_4']\n",
    "\n",
    "X = big_g_df[features]\n",
    "y = np.ravel(big_g_df['5246_0'])\n",
    "\n",
    "# Encode the target variable\n",
    "le = LabelEncoder().fit(y)\n",
    "y = le.transform(y)\n",
    "\n",
    "# Perform a train/test split first\n",
    "X_train, X_test, y_train, y_test = train_test_split(X, y, stratify = y, random_state = 321)\n",
    "\n",
    "# Then scale the predictors\n",
    "scaler = StandardScaler().fit(X_train)\n",
    "X_train = scaler.transform(X_train)\n",
    "X_test = scaler.transform(X_test)"
   ]
  },
  {
   "cell_type": "code",
   "execution_count": null,
   "id": "65b9c08f-8a3f-4495-aac2-e1bcdcf00d27",
   "metadata": {},
   "outputs": [],
   "source": []
  },
  {
   "cell_type": "code",
   "execution_count": null,
   "id": "7c334d43-3751-4daf-8690-be84a38acba6",
   "metadata": {},
   "outputs": [],
   "source": []
  }
 ],
 "metadata": {
  "kernelspec": {
   "display_name": "Python 3 (ipykernel)",
   "language": "python",
   "name": "python3"
  },
  "language_info": {
   "codemirror_mode": {
    "name": "ipython",
    "version": 3
   },
   "file_extension": ".py",
   "mimetype": "text/x-python",
   "name": "python",
   "nbconvert_exporter": "python",
   "pygments_lexer": "ipython3",
   "version": "3.11.8"
  }
 },
 "nbformat": 4,
 "nbformat_minor": 5
}
